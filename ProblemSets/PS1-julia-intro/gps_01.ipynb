{
 "cells": [
  {
   "cell_type": "markdown",
   "metadata": {},
   "source": [
    "# Problem Set 1 - Intro to Julia\n",
    "\n",
    "**Author:** Gabriel Petrini\n",
    "\n",
    "**Date:** September 1st, 2020"
   ]
  },
  {
   "cell_type": "markdown",
   "metadata": {},
   "source": [
    "Directions: Answer all questions. Each student must turn in their own copy, but you may work in groups. Clearly label all answers. Show all of your code. Turn in jl-file(s), output files and writeup via GitHub. Your writeup may simply consist of comments in jl-file(s). If applicable, put the names of all group members at the top of your writeup or jl-file.\n",
    "\n",
    "Before starting, you will need to install and load the following packages:\n",
    "~~~\n",
    "JLD2\n",
    "\n",
    "Random\n",
    "\n",
    "LinearAlgebra\n",
    "\n",
    "Statistics\n",
    "    \n",
    "CSV\n",
    "\n",
    "DataFrames\n",
    "\n",
    "FreqTables \n",
    "\n",
    "Distributions\n",
    "~~~"
   ]
  },
  {
   "cell_type": "code",
   "execution_count": 1,
   "metadata": {
    "ExecuteTime": {
     "end_time": "2020-08-28T09:35:55.530000-03:00",
     "start_time": "2020-08-28T12:35:41.993Z"
    }
   },
   "outputs": [],
   "source": [
    "using Random, Statistics, FreqTables, Distributions;\n",
    "using LinearAlgebra;\n",
    "using CSV, DataFrames, JLD2;\n",
    "\n",
    "Random.seed!(1234); # Setting seed"
   ]
  },
  {
   "cell_type": "markdown",
   "metadata": {},
   "source": [
    "## Initializing variables and practice with basic matrix operations\n",
    "\n",
    "###  Create the following four matrices of random numbers, setting the seed to '1234'. Name the matrices and set the dimensions as noted\n",
    "\n",
    "a. $A_{10×7}$ - random numbers distributed $U [−5, 10]$\n",
    " "
   ]
  },
  {
   "cell_type": "code",
   "execution_count": 2,
   "metadata": {
    "ExecuteTime": {
     "end_time": "2020-08-28T09:37:16.532000-03:00",
     "start_time": "2020-08-28T12:37:14.381Z"
    }
   },
   "outputs": [
    {
     "data": {
      "text/plain": [
       "10×7 Array{Float64,2}:\n",
       "  3.86267    4.73323    9.25748    8.96673   -4.30567    4.88222    4.65556\n",
       "  6.50196   -4.83641    9.47005    1.58408    5.47533    2.73441    1.02131\n",
       "  3.49356   -4.00365    9.18663   -1.29706    0.476641  -1.08927    2.87586\n",
       "  1.90128    9.3513     6.84856   -4.82271   -0.462833   3.93281    4.18015\n",
       "  6.91039    4.70036    7.31741   -4.30936    0.588632  -0.613077   1.48865\n",
       "  7.8122    -3.31271   -4.4876     2.44253   -2.74238   -0.671302  -3.76689\n",
       " -1.99121   -0.859686  -3.58183    5.98001   -2.79006    4.2724    -2.01413\n",
       " -0.520786   4.77496   -0.276107  -0.514137  -0.74898    4.9639     3.64123\n",
       " -1.29744   -4.15036   -3.08285    1.73773    1.07429    6.30262   -1.72734\n",
       "  3.69508    7.6407     0.612801   8.12644    2.49296   -4.44674    0.430533"
      ]
     },
     "execution_count": 2,
     "metadata": {},
     "output_type": "execute_result"
    }
   ],
   "source": [
    "A = rand(Uniform(-5,10), 10,7)"
   ]
  },
  {
   "cell_type": "markdown",
   "metadata": {},
   "source": [
    "b. $B_{10×7}$ - random numbers distributed $N (−2, 15)$ [st dev is 15]"
   ]
  },
  {
   "cell_type": "code",
   "execution_count": 5,
   "metadata": {
    "ExecuteTime": {
     "end_time": "2020-08-28T09:39:28.909000-03:00",
     "start_time": "2020-08-28T12:39:28.730Z"
    }
   },
   "outputs": [
    {
     "data": {
      "text/plain": [
       "10×7 Array{Float64,2}:\n",
       "   0.73882    -13.0124    -16.717    …    7.79041     6.69775     2.32697\n",
       "  28.953        1.89506    -6.7458       -0.435064    1.57426   -21.9375\n",
       " -23.2179     -17.7292      1.98614       9.12677    33.5317     55.6956\n",
       "   0.0171313    0.994137   13.9842      -15.2981     -3.50657    10.5644\n",
       " -13.2563     -14.1017     18.7752       23.56       -2.90555    -6.87955\n",
       "   0.561669     0.967062   -0.80073  …   -8.90916     4.44054    -6.97473\n",
       " -25.7738     -19.3299    -14.5005       18.7093    -16.2828     30.492\n",
       " -31.625       10.2806     -8.6487       -1.82674    10.2093    -12.6817\n",
       "  -0.853731     0.269651  -26.9484       -9.83497    11.2862    -16.57\n",
       "   9.99003     16.7085     -9.81844      -8.42817     0.690528  -11.5884"
      ]
     },
     "execution_count": 5,
     "metadata": {},
     "output_type": "execute_result"
    }
   ],
   "source": [
    "B = rand(Normal(-2, 15), 10, 7)"
   ]
  },
  {
   "cell_type": "markdown",
   "metadata": {},
   "source": [
    "c. $C_{5×7}$ - the first 5 rows and first 5 columns of $A$ and the last two columns and first 5 rows of $B$"
   ]
  },
  {
   "cell_type": "code",
   "execution_count": 19,
   "metadata": {
    "ExecuteTime": {
     "end_time": "2020-08-28T09:47:28.353000-03:00",
     "start_time": "2020-08-28T12:47:28.350Z"
    }
   },
   "outputs": [
    {
     "ename": "BoundsError",
     "evalue": "BoundsError: attempt to access 10×7 Array{Float64,2} at index [1:5, -2:7:-2]",
     "output_type": "error",
     "traceback": [
      "BoundsError: attempt to access 10×7 Array{Float64,2} at index [1:5, -2:7:-2]",
      "",
      "Stacktrace:",
      " [1] throw_boundserror(::Array{Float64,2}, ::Tuple{UnitRange{Int64},StepRange{Int64,Int64}}) at ./abstractarray.jl:537",
      " [2] checkbounds at ./abstractarray.jl:502 [inlined]",
      " [3] _getindex at ./multidimensional.jl:726 [inlined]",
      " [4] getindex(::Array{Float64,2}, ::UnitRange{Int64}, ::StepRange{Int64,Int64}) at ./abstractarray.jl:980",
      " [5] top-level scope at In[19]:1"
     ]
    }
   ],
   "source": [
    "C = [A[1:5, 1:5] B[1:5, -2:end:-1]] #TODO Check latter"
   ]
  },
  {
   "cell_type": "markdown",
   "metadata": {},
   "source": [
    "d. $D_{10×7}$ - where $D_{i, j} = A_{i, j}$ if $A_{i, j} \\leq 0$, or $0$ otherwise\n"
   ]
  },
  {
   "cell_type": "code",
   "execution_count": 30,
   "metadata": {
    "ExecuteTime": {
     "end_time": "2020-08-28T09:58:28.960000-03:00",
     "start_time": "2020-08-28T12:58:28.958Z"
    }
   },
   "outputs": [
    {
     "data": {
      "text/plain": [
       "10×7 Array{Float64,2}:\n",
       "  0.0        0.0        0.0        0.0       -4.30567    0.0        0.0\n",
       "  0.0       -4.83641    0.0        0.0        0.0        0.0        0.0\n",
       "  0.0       -4.00365    0.0       -1.29706    0.0       -1.08927    0.0\n",
       "  0.0        0.0        0.0       -4.82271   -0.462833   0.0        0.0\n",
       "  0.0        0.0        0.0       -4.30936    0.0       -0.613077   0.0\n",
       "  0.0       -3.31271   -4.4876     0.0       -2.74238   -0.671302  -3.76689\n",
       " -1.99121   -0.859686  -3.58183    0.0       -2.79006    0.0       -2.01413\n",
       " -0.520786   0.0       -0.276107  -0.514137  -0.74898    0.0        0.0\n",
       " -1.29744   -4.15036   -3.08285    0.0        0.0        0.0       -1.72734\n",
       "  0.0        0.0        0.0        0.0        0.0       -4.44674    0.0"
      ]
     },
     "execution_count": 30,
     "metadata": {},
     "output_type": "execute_result"
    }
   ],
   "source": [
    "D .= A\n",
    "D[A .> 0] .= 0\n",
    "D"
   ]
  },
  {
   "cell_type": "markdown",
   "metadata": {},
   "source": [
    "##  Use a built-in Julia function to list the number of elements of A"
   ]
  },
  {
   "cell_type": "code",
   "execution_count": 37,
   "metadata": {
    "ExecuteTime": {
     "end_time": "2020-08-28T10:01:44.507000-03:00",
     "start_time": "2020-08-28T13:01:44.373Z"
    }
   },
   "outputs": [
    {
     "name": "stdout",
     "output_type": "stream",
     "text": [
      "The number of elements of A is 70\n"
     ]
    }
   ],
   "source": [
    "function list_A()\n",
    "    n = length(A)\n",
    "    return println(\"The number of elements of A is \", n)\n",
    "end\n",
    "list_A()\n"
   ]
  },
  {
   "cell_type": "markdown",
   "metadata": {},
   "source": [
    "### Use a series of built-in Julia functions to list the number of unique elements of $D$"
   ]
  },
  {
   "cell_type": "code",
   "execution_count": 40,
   "metadata": {
    "ExecuteTime": {
     "end_time": "2020-08-28T10:02:44.746000-03:00",
     "start_time": "2020-08-28T13:02:44.739Z"
    }
   },
   "outputs": [
    {
     "data": {
      "text/plain": [
       "29"
      ]
     },
     "execution_count": 40,
     "metadata": {},
     "output_type": "execute_result"
    }
   ],
   "source": [
    "unique(D) |> length"
   ]
  },
  {
   "cell_type": "markdown",
   "metadata": {},
   "source": [
    "### Using the reshape() function, create a new matrix called $E$ which is the 'vec' operator applied to $B$. Can you find an easier way to accomplish this?"
   ]
  },
  {
   "cell_type": "code",
   "execution_count": 44,
   "metadata": {
    "ExecuteTime": {
     "end_time": "2020-08-28T10:06:21.014000-03:00",
     "start_time": "2020-08-28T13:06:21.011Z"
    }
   },
   "outputs": [
    {
     "data": {
      "text/plain": [
       "70×1 Array{Float64,2}:\n",
       "   0.7388198935443135\n",
       "  28.95298708966839\n",
       " -23.217921470798856\n",
       "   0.017131326864824103\n",
       " -13.256307606620506\n",
       "   0.5616691925916748\n",
       " -25.773824342292993\n",
       " -31.62500743990568\n",
       "  -0.8537306155079312\n",
       "   9.990027487986394\n",
       " -13.012420762526913\n",
       "   1.8950595152946734\n",
       " -17.729166348967837\n",
       "   ⋮\n",
       "  11.286229586575026\n",
       "   0.6905276245415259\n",
       "   2.3269734336374963\n",
       " -21.937512354780477\n",
       "  55.69559764497001\n",
       "  10.564413073741656\n",
       "  -6.879553462102997\n",
       "  -6.974732388028951\n",
       "  30.491999873019076\n",
       " -12.68171738101507\n",
       " -16.570011717567688\n",
       " -11.58844094728918"
      ]
     },
     "execution_count": 44,
     "metadata": {},
     "output_type": "execute_result"
    }
   ],
   "source": [
    "E = reshape(B, (length(B),1))"
   ]
  },
  {
   "cell_type": "markdown",
   "metadata": {},
   "source": [
    "### Create a new array called $F$ which is 3-dimensional and contains $A$ in the first column of the third dimension and $B$ in the second column of the third dimension\n"
   ]
  },
  {
   "cell_type": "code",
   "execution_count": 57,
   "metadata": {
    "ExecuteTime": {
     "end_time": "2020-08-28T10:11:59.331000-03:00",
     "start_time": "2020-08-28T13:11:59.279Z"
    }
   },
   "outputs": [
    {
     "ename": "MethodError",
     "evalue": "MethodError: no method matching zeros(::Int64, ::Tuple{Int64,Int64})\nClosest candidates are:\n  zeros(!Matched::Union{Integer, AbstractUnitRange}...) at array.jl:499\n  zeros(!Matched::Type{T}, ::Tuple{Vararg{Integer,N}}) where {T, N} at array.jl:504\n  zeros(!Matched::Type{T}, ::Tuple{Vararg{Union{Integer, Base.OneTo},N}}) where {T, N} at array.jl:502",
     "output_type": "error",
     "traceback": [
      "MethodError: no method matching zeros(::Int64, ::Tuple{Int64,Int64})\nClosest candidates are:\n  zeros(!Matched::Union{Integer, AbstractUnitRange}...) at array.jl:499\n  zeros(!Matched::Type{T}, ::Tuple{Vararg{Integer,N}}) where {T, N} at array.jl:504\n  zeros(!Matched::Type{T}, ::Tuple{Vararg{Union{Integer, Base.OneTo},N}}) where {T, N} at array.jl:502",
      "",
      "Stacktrace:",
      " [1] top-level scope at In[57]:1"
     ]
    }
   ],
   "source": [
    "F = zeros(2, size(A))\n",
    "F[:,:,1] = A"
   ]
  },
  {
   "cell_type": "code",
   "execution_count": 72,
   "metadata": {
    "ExecuteTime": {
     "end_time": "2020-08-28T10:17:19.857000-03:00",
     "start_time": "2020-08-28T13:17:19.854Z"
    }
   },
   "outputs": [
    {
     "data": {
      "text/plain": [
       "Array{Float64,3}"
      ]
     },
     "execution_count": 72,
     "metadata": {},
     "output_type": "execute_result"
    }
   ],
   "source": [
    "F = Array{Float64,3}\n",
    "#F[:,:,1] .= A"
   ]
  },
  {
   "cell_type": "code",
   "execution_count": null,
   "metadata": {},
   "outputs": [],
   "source": []
  }
 ],
 "metadata": {
  "hide_input": false,
  "kernelspec": {
   "display_name": "Julia 1.4.1",
   "language": "julia",
   "name": "julia-1.4"
  },
  "language_info": {
   "file_extension": ".jl",
   "mimetype": "application/julia",
   "name": "julia",
   "version": "1.4.1"
  },
  "latex_envs": {
   "LaTeX_envs_menu_present": true,
   "autoclose": false,
   "autocomplete": true,
   "bibliofile": "biblio.bib",
   "cite_by": "apalike",
   "current_citInitial": 1,
   "eqLabelWithNumbers": true,
   "eqNumInitial": 1,
   "hotkeys": {
    "equation": "Ctrl-E",
    "itemize": "Ctrl-I"
   },
   "labels_anchors": false,
   "latex_user_defs": false,
   "report_style_numbering": false,
   "user_envs_cfg": false
  }
 },
 "nbformat": 4,
 "nbformat_minor": 4
}
