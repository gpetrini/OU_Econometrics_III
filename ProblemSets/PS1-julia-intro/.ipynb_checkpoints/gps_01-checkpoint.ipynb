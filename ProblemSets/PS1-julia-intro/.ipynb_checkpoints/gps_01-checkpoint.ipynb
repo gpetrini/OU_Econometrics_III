{
 "cells": [
  {
   "cell_type": "markdown",
   "metadata": {},
   "source": [
    "# Problem Set 1 - Intro to Julia\n",
    "\n",
    "**Author:** Gabriel Petrini\n",
    "\n",
    "**Date:** September 1st, 2020"
   ]
  },
  {
   "cell_type": "markdown",
   "metadata": {},
   "source": [
    "Directions: Answer all questions. Each student must turn in their own copy, but you may work in groups. Clearly label all answers. Show all of your code. Turn in jl-file(s), output files and writeup via GitHub. Your writeup may simply consist of comments in jl-file(s). If applicable, put the names of all group members at the top of your writeup or jl-file.\n",
    "\n",
    "Before starting, you will need to install and load the following packages:\n",
    "~~~\n",
    "JLD2\n",
    "\n",
    "Random\n",
    "\n",
    "LinearAlgebra\n",
    "\n",
    "Statistics\n",
    "    \n",
    "CSV\n",
    "\n",
    "DataFrames\n",
    "\n",
    "FreqTables \n",
    "\n",
    "Distributions\n",
    "~~~"
   ]
  },
  {
   "cell_type": "code",
   "execution_count": 1,
   "metadata": {
    "ExecuteTime": {
     "end_time": "2020-08-28T09:35:55.530000-03:00",
     "start_time": "2020-08-28T12:35:41.993Z"
    }
   },
   "outputs": [],
   "source": [
    "using Random, Statistics, FreqTables, Distributions;\n",
    "using LinearAlgebra;\n",
    "using CSV, DataFrames, JLD2;\n",
    "\n",
    "Random.seed!(1234); # Setting seed"
   ]
  },
  {
   "cell_type": "markdown",
   "metadata": {},
   "source": [
    "## Initializing variables and practice with basic matrix operations\n",
    "\n",
    "###  Create the following four matrices of random numbers, setting the seed to '1234'. Name the matrices and set the dimensions as noted\n",
    "\n",
    "a. $A_{10×7}$ - random numbers distributed $U [−5, 10]$\n",
    " "
   ]
  },
  {
   "cell_type": "code",
   "execution_count": 2,
   "metadata": {
    "ExecuteTime": {
     "end_time": "2020-08-28T09:37:16.532000-03:00",
     "start_time": "2020-08-28T12:37:14.381Z"
    }
   },
   "outputs": [
    {
     "data": {
      "text/plain": [
       "10×7 Array{Float64,2}:\n",
       "  3.86267    4.73323    9.25748    8.96673   -4.30567    4.88222    4.65556\n",
       "  6.50196   -4.83641    9.47005    1.58408    5.47533    2.73441    1.02131\n",
       "  3.49356   -4.00365    9.18663   -1.29706    0.476641  -1.08927    2.87586\n",
       "  1.90128    9.3513     6.84856   -4.82271   -0.462833   3.93281    4.18015\n",
       "  6.91039    4.70036    7.31741   -4.30936    0.588632  -0.613077   1.48865\n",
       "  7.8122    -3.31271   -4.4876     2.44253   -2.74238   -0.671302  -3.76689\n",
       " -1.99121   -0.859686  -3.58183    5.98001   -2.79006    4.2724    -2.01413\n",
       " -0.520786   4.77496   -0.276107  -0.514137  -0.74898    4.9639     3.64123\n",
       " -1.29744   -4.15036   -3.08285    1.73773    1.07429    6.30262   -1.72734\n",
       "  3.69508    7.6407     0.612801   8.12644    2.49296   -4.44674    0.430533"
      ]
     },
     "execution_count": 2,
     "metadata": {},
     "output_type": "execute_result"
    }
   ],
   "source": [
    "A = rand(Uniform(-5,10), 10,7)"
   ]
  },
  {
   "cell_type": "code",
   "execution_count": null,
   "metadata": {},
   "outputs": [],
   "source": []
  }
 ],
 "metadata": {
  "hide_input": false,
  "kernelspec": {
   "display_name": "Julia 1.4.1",
   "language": "julia",
   "name": "julia-1.4"
  },
  "language_info": {
   "file_extension": ".jl",
   "mimetype": "application/julia",
   "name": "julia",
   "version": "1.4.1"
  },
  "latex_envs": {
   "LaTeX_envs_menu_present": true,
   "autoclose": false,
   "autocomplete": true,
   "bibliofile": "biblio.bib",
   "cite_by": "apalike",
   "current_citInitial": 1,
   "eqLabelWithNumbers": true,
   "eqNumInitial": 1,
   "hotkeys": {
    "equation": "Ctrl-E",
    "itemize": "Ctrl-I"
   },
   "labels_anchors": false,
   "latex_user_defs": false,
   "report_style_numbering": false,
   "user_envs_cfg": false
  }
 },
 "nbformat": 4,
 "nbformat_minor": 4
}
